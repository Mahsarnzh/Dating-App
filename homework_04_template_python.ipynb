{
 "cells": [
  {
   "cell_type": "markdown",
   "id": "5f579084",
   "metadata": {},
   "source": [
    "## CMPINF 2130 Summer 2023 - Homework 04\n",
    "### Assigned June 8, 2023; Due June 15, 2023\n",
    "\n",
    "#### Your Name Here\n",
    "\n",
    "###  Submission time: June 15, 2023 11:00PM EST\n",
    "\n",
    "#### Collaborators\n",
    "\n",
    "Include the names of other students you worked with here.  \n",
    "\n",
    "## Overview\n",
    "\n",
    "You will work with 3 data sets in this assignment. Two of the data sets will be explored in both R and Python. This allows you to directly compare figures between the two languages. As with the previous assignment, two of the data sets are new. The third data set is the EPA AQI data. You will therefore continue exploring this complicated data set.  \n",
    "\n",
    "This assignment is focused entirely on exploring the relationships between categorical and continuous variables. Specifically, you are examining the **conditional distributions** of a continuous variable **given** a categorical variable. You will need the skills and concepts presented in lecture and the readings to complete this assignment.  \n",
    "\n",
    "The three data sets for this assignment are:  \n",
    "\n",
    "* Synthetic data created for this assignment to practice visualizing the impact of sample size  \n",
    "  * The data involve a single continuous variable and a single categorical variable  \n",
    "  * Problem 01 uses this data set  \n",
    "* A real **binary classification** data set  \n",
    "  * The data consists of two continuous *inputs* and one categorical *output*  \n",
    "  * The categorical output is binary and thus has two values  \n",
    "  * This is a real data set and comes from a popular binary classification problem in machine learning  \n",
    "  * You are working with just two of the inputs even though the full problem has many more  \n",
    "  * Problems 02 and 03 are associated with this data set\n",
    "* The EPA Air Quality System (AQS) data from homework 02  \n",
    "  * You will explore the conditional distribution of `daily_avg` given the Month\n",
    "  * You will therefore use conditional distributions to explore behavior over time  \n",
    "  * Problem 04 is associated with the EPA AQS data  \n",
    "  \n",
    "You will explore the synthetic data and binary classification data in both R and Python. The EPA AQS data will only be explored in R.  \n",
    "\n",
    "The last problem, Problem 05, requires you to read in potential data for your final project. You may answer this problem in either Python or R.  \n",
    "\n",
    "The problem numbering in the Jupyter notebook is consistent with the R numbering. The Jupyter notebook therefore does **NOT** include Problem 04.  \n",
    "\n",
    "**IMPORTANT**: the Python instructions are DIFFERENT than the R instructions. Thus, the actions are not one-to-one between the two languages.\n",
    "\n",
    "\n",
    "**Important**: Please download all CSV files from the Canvas site and save them in the same directory as your RMarkdown file. The code chunks read in the CSV files assuming they are in the same directory.  \n",
    "\n",
    "## Problem 00\n",
    "\n",
    "**Import the 4 Python modules NumPy, Pandas, Matplotlib Pyplot, and Seaborn. You must use the commonly accepted aliases for the modules.**  \n",
    "\n",
    "#### SOLUTION"
   ]
  },
  {
   "cell_type": "code",
   "execution_count": null,
   "id": "9878aa3f",
   "metadata": {},
   "outputs": [],
   "source": []
  },
  {
   "cell_type": "markdown",
   "id": "852049bb",
   "metadata": {},
   "source": [
    "## Problem 01\n",
    "\n",
    "The synthetic data are read in for you in the cell below and assigned to the `df` object. There is 1 continuous variable and 1 categorical variable in the data set. The continuous variable is named `x` and the categorical variable is named `m`.  "
   ]
  },
  {
   "cell_type": "code",
   "execution_count": null,
   "id": "eb43fe6b",
   "metadata": {},
   "outputs": [],
   "source": [
    "df = pd.read_csv('hw04_synthetic.csv')"
   ]
  },
  {
   "cell_type": "markdown",
   "id": "87904b50",
   "metadata": {},
   "source": [
    "### 1a)\n",
    "\n",
    "**Create a bar chart to show the counts associated with the categorical variable `m`.**  \n",
    "\n",
    "**Are the categories balanced?**  \n",
    "\n",
    "#### SOLUTION\n",
    "\n",
    "What do you think?  "
   ]
  },
  {
   "cell_type": "code",
   "execution_count": null,
   "id": "df9ba3c4",
   "metadata": {},
   "outputs": [],
   "source": [
    "###"
   ]
  },
  {
   "cell_type": "markdown",
   "id": "6991bac8",
   "metadata": {},
   "source": [
    "### 1b)\n",
    "\n",
    "**Create a histogram to show the MARGINAL distribution of the continuous variable `x`. Use an appropriate number of bins based on the sample size.**  \n",
    "\n",
    "**How would you describe the shape of the MARGINAL distribution?**  \n",
    "\n",
    "#### SOLUTION\n",
    "\n",
    "What do you think?  "
   ]
  },
  {
   "cell_type": "code",
   "execution_count": null,
   "id": "612b5fd7",
   "metadata": {},
   "outputs": [],
   "source": [
    "###"
   ]
  },
  {
   "cell_type": "markdown",
   "id": "5eab8481",
   "metadata": {},
   "source": [
    "### 1c)\n",
    "\n",
    "Let's try to explore the conditional distribution by using the default conditional histogram in Seaborn.  \n",
    "\n",
    "**Create a conditional histogram to visualize the CONDITIONAL distribution of the continuous variable `x` GIVEN the categorical variable `m`. Assign the categorical variable `m` to the `hue` semantic variable. You must use the default filled count histogram in Seaborn. Use an appropriate number of bins based on the sample size.**  \n",
    "\n",
    "**You may use the default color palette.**  \n",
    "\n",
    "**Are the conditional distributions different across the categories of `m`?**  \n",
    "\n",
    "#### SOLUTION\n",
    "\n",
    "What do you think?  "
   ]
  },
  {
   "cell_type": "code",
   "execution_count": null,
   "id": "511b31cd",
   "metadata": {},
   "outputs": [],
   "source": [
    "###"
   ]
  },
  {
   "cell_type": "markdown",
   "id": "8aa5d061",
   "metadata": {},
   "source": [
    "### 1d)\n",
    "\n",
    "Let's now move away from the FILLED count histogram. However, rather than creating the FREQUENCY polygon in Seaborn, let's move straight to the conditional KDE or Density plot. You will use the DEFAULT settings for the conditional KDE plot in this problem.\n",
    "\n",
    "**Create a conditional KDE to visualize the CONDITIONAL distribution of the continuous variable `x` GIVEN the categorical variable `m`. Assign the categorical variable `m` to the `hue` semantic variable. You must use the Seaborn default conditional KDE settings.**  \n",
    "\n",
    "**You may use the default color palette.**  \n",
    "\n",
    "**Are the conditional distributions different across the categories of `m`?**  \n",
    "\n",
    "#### SOLUTION\n",
    "\n",
    "What do you think?  "
   ]
  },
  {
   "cell_type": "code",
   "execution_count": null,
   "id": "87c21aa6",
   "metadata": {},
   "outputs": [],
   "source": [
    "###"
   ]
  },
  {
   "cell_type": "markdown",
   "id": "8c9e0ee0",
   "metadata": {},
   "source": [
    "### 1e)\n",
    "\n",
    "If you completed Problem 01 in R first, you should notice that the default Seaborn conditional KDE is DIFFERENT from conditional KDE created by `ggplot2`! Seaborn actually does something incorrectly by default! As discussed in lecture, Seaborn's default conditional KDE settings must be changed! \n",
    "\n",
    "Let's now create another FREQUENCY POLYGON but this time the `y`-aesthetic must show the **density** instead of the **count**!   \n",
    "\n",
    "**Create a conditional KDE again, but this time modify the default Seaborn settings.**  \n",
    "\n",
    "**You may use the default color palette.**  \n",
    "\n",
    "**Are the conditional distributions different across the categories of `m`?**  \n",
    "\n",
    "#### SOLUTION\n",
    "\n",
    "What do you think?  "
   ]
  },
  {
   "cell_type": "code",
   "execution_count": null,
   "id": "959a77c2",
   "metadata": {},
   "outputs": [],
   "source": [
    "###"
   ]
  },
  {
   "cell_type": "markdown",
   "id": "5a25f97e",
   "metadata": {},
   "source": [
    "### 1f)\n",
    "\n",
    "Lastly, distributions can be represented via empirical Cumulative Distribution Function (eCDF) plots. The eCDF represents the distributional shape and supports visualizing Quantiles because the eCDF calculates the cumulative proportion. You will now use CONDITIONAL eCDF to visualize conditional distributions.  \n",
    "\n",
    "**Create a conditional eCDF plot to visualize the CONDITIONAL distribution of the continuous variable `x` GIVEN the categorical variable `m`. Assign the categorical variable `m` to the `hue` semantic variable.**  \n",
    "\n",
    "**You may use the default color palette.**  \n",
    "\n",
    "**Are the conditional distributions different across the categories of `m`?**  \n",
    "\n",
    "#### SOLUTION\n",
    "\n",
    "What do you think?  "
   ]
  },
  {
   "cell_type": "code",
   "execution_count": null,
   "id": "cae04819",
   "metadata": {},
   "outputs": [],
   "source": [
    "###"
   ]
  },
  {
   "cell_type": "markdown",
   "id": "96900730",
   "metadata": {},
   "source": [
    "### 1h)\n",
    "\n",
    "Let's wrapup this problem by reviewing the relationship between the various plots you created to study the CONDITIONAL distribution.  \n",
    "\n",
    "**Did your opinions about the differences between the conditional distributions change when you modified the default Seaborn conditional KDE behavior? If so why? Were your conclusions consistent between the corrected conditional KDE and eCDF plots?**  \n",
    "\n",
    "**Which type of plot did you feel was easiest to interpret?**  \n",
    "\n",
    "#### SOLUTION\n",
    "\n",
    "What do you think?  "
   ]
  },
  {
   "cell_type": "markdown",
   "id": "55783b48",
   "metadata": {},
   "source": [
    "## Problem 02\n",
    "\n",
    "The small binary classification data is read in for you in the cell below and assigned to the `df_class` object. The data consists of three variables. The first two, `A` and `B`, correspond to input features and the third variable `Class` is a binary outcome of interest. The data comes from a data set that is commonly used to teach binary classification models in machine learning. You are working with a small fraction of the inputs to the problem. The variable names have been changed to try and hide just which data set this is in case you have seen this problem before!  "
   ]
  },
  {
   "cell_type": "code",
   "execution_count": null,
   "id": "c29688a7",
   "metadata": {},
   "outputs": [],
   "source": [
    "df_class = pd.read_csv('hw04_small_classification.csv')"
   ]
  },
  {
   "cell_type": "markdown",
   "id": "298413f2",
   "metadata": {},
   "source": [
    "### 2a)\n",
    "\n",
    "**Create a bar chart to show the counts of the categorical variable.**  \n",
    "\n",
    "**Are the categories balanced?**  \n",
    "\n",
    "#### SOLUTION\n",
    "\n",
    "What do you think?"
   ]
  },
  {
   "cell_type": "code",
   "execution_count": null,
   "id": "9268a6ae",
   "metadata": {},
   "outputs": [],
   "source": [
    "###"
   ]
  },
  {
   "cell_type": "markdown",
   "id": "abaa2a1f",
   "metadata": {},
   "source": [
    "### 2b)\n",
    "\n",
    "**Create histograms to visualize the MARGINAL distributions of the continuous variables. Use an appropriate number of bins based on the sample size.**  \n",
    "\n",
    "*HINT*: You may use separate cells for each variable.  \n",
    "\n",
    "#### SOLUTION"
   ]
  },
  {
   "cell_type": "code",
   "execution_count": null,
   "id": "cb3ba61a",
   "metadata": {},
   "outputs": [],
   "source": [
    "###"
   ]
  },
  {
   "cell_type": "markdown",
   "id": "cde740bf",
   "metadata": {},
   "source": [
    "### 2c)\n",
    "\n",
    "Now that you have studied the MARGINAL distributions, it is time to consider the CONDITIONAL distributions! You will NOT use the DEFAULT Seaborn settings in this problem. You MUST create your Seaborn conditional KDE plot by modifying the default Seaborn behavior.  \n",
    "\n",
    "**Create conditional KDE plot to visualize the CONDITIONAL distributions of the continuous variables GIVEN the categorical variable. Assign the categorical variable to the appropriate semantic variable. Make the corresponding modification such that the incorrect default Seaborn behavior is corrected.**  \n",
    "\n",
    "**You may use the default color palette.**  \n",
    "\n",
    "*HINT*: You may use separate cells for each variable.  \n",
    "\n",
    "#### SOLUTION"
   ]
  },
  {
   "cell_type": "code",
   "execution_count": null,
   "id": "084704df",
   "metadata": {},
   "outputs": [],
   "source": [
    "###"
   ]
  },
  {
   "cell_type": "markdown",
   "id": "54de43a3",
   "metadata": {},
   "source": [
    "### 2d)\n",
    "\n",
    "Let's now consider the eCDF to represent the MARGINAL distributions of the continuous variables.  \n",
    "\n",
    "**Create eCDFs to visualize the MARGINAL distributions of the continuous variables.**  \n",
    "\n",
    "*HINT*: You may use separate cells for each variable.  \n",
    "\n",
    "#### SOLUTION"
   ]
  },
  {
   "cell_type": "code",
   "execution_count": null,
   "id": "47051778",
   "metadata": {},
   "outputs": [],
   "source": [
    "###"
   ]
  },
  {
   "cell_type": "markdown",
   "id": "a7153994",
   "metadata": {},
   "source": [
    "### 2e)\n",
    "\n",
    "Let's now consider the how the eCDF changes across categories by visualizing the CONDITIONAL eCDF!  \n",
    "\n",
    "**Create conditional eCDFs to visualize the CONDITIONAL distributions of the continuous variables GIVEN the categorical variable. Assign the categorical variable to the appropriate semantic variable.**  \n",
    "\n",
    "**You may use the default color palette.**  \n",
    "\n",
    "*HINT*: You may use separate cells for each variable.  \n",
    "\n",
    "#### SOLUTION"
   ]
  },
  {
   "cell_type": "code",
   "execution_count": null,
   "id": "d1adaa12",
   "metadata": {},
   "outputs": [],
   "source": [
    "###"
   ]
  },
  {
   "cell_type": "markdown",
   "id": "e6a9fb6e",
   "metadata": {},
   "source": [
    "### 2f)\n",
    "\n",
    "You have explored the categorical-to-continuous relationship through multiple approaches of visualizing the CONDITIONAL distribution.  \n",
    "\n",
    "**Is the binary response, `Class`, associated with different distributions of the continuous inputs? Which type of plot did you feel was easier to use to reach your conclusion?**  \n",
    "\n",
    "#### SOLUTION\n",
    "\n",
    "What do you think?  "
   ]
  },
  {
   "cell_type": "markdown",
   "id": "01551df3",
   "metadata": {},
   "source": [
    "## Problem 03\n",
    "\n",
    "You will continue to use the `df_class` data set for this problem. In lecture we discussed that there are multiple types of *specialized* graphics to study categorical-to-continuous relationships. The specialized graphics focus on particular aspects of the conditional histogram and conditional eCDF plots. Thus, these specialized graphics have various pros and cons. Let's get practice working those specalized graphics now.  \n",
    "\n",
    "**Note**: The specialized graphics for categorical-to-continuous relationships are provided on Canvas.\n",
    "\n",
    "### 3a)\n",
    "\n",
    "You will start by using boxplots to compare the summary stats of the conditional distributions given the categorical variable.  \n",
    "\n",
    "**Create boxplots for the continuous variables given the categorical variable. You should use separate graphics for each continuous variable.**  \n",
    "\n",
    "*HINT*: You may use separate cells for each variable.  \n",
    "\n",
    "#### SOLUTION"
   ]
  },
  {
   "cell_type": "code",
   "execution_count": null,
   "id": "d175fd1f",
   "metadata": {},
   "outputs": [],
   "source": [
    "###"
   ]
  },
  {
   "cell_type": "markdown",
   "id": "9bd32940",
   "metadata": {},
   "source": [
    "### 3b)\n",
    "\n",
    "Sometimes we are particularly interested in comparing AVERAGES across categories. For example, we might be interested in knowing if the average is DIFFERENT across the categories. However, we cannot make such a conclusion by simply comparing the mean values. We must also consider the uncertainty of the estimate. We need to know how *confident* we are. Thus, we need to include the 95% confidence interval on the conditional means. You will compare the averages of the continuous variables across the categories of the categorical variable in this problem.  \n",
    "\n",
    "**Create a plot which shows the conditional means of the continuous variables given the categorical variable. You must set the arguments of `sns.catplot()` function to correctly include the 95% confidence interval on the conditional means. You should use separate graphics for each continuous variable.**  \n",
    "\n",
    "*HINT*: You may use separate cells for each variable.  \n",
    "\n",
    "#### SOLUTION"
   ]
  },
  {
   "cell_type": "code",
   "execution_count": null,
   "id": "9dfc5103",
   "metadata": {},
   "outputs": [],
   "source": [
    "###"
   ]
  },
  {
   "cell_type": "markdown",
   "id": "34c8c2b3",
   "metadata": {},
   "source": [
    "### 3c)\n",
    "\n",
    "Comparing summary statistics across categories is useful and important. However, that is not the complete picture. We also need to consider the changes in the distributional shape. You studied the shapes extensively in Problem 2, but there are specialized graphics that focus on the conditional distributional shapes as well. You will explore how the distributional shapes change in this problem via the VIOLIN plot.  \n",
    "\n",
    "**Create Violin plots for the continuous variables given the categorical variable. You should use separate graphics for each continuous variable.**  \n",
    "\n",
    "*HINT*: You may use separate cells for each variable.  \n",
    "\n",
    "#### SOLUTION"
   ]
  },
  {
   "cell_type": "code",
   "execution_count": null,
   "id": "848e801e",
   "metadata": {},
   "outputs": [],
   "source": [
    "###"
   ]
  },
  {
   "cell_type": "markdown",
   "id": "51fb3b3a",
   "metadata": {},
   "source": [
    "### 3d)\n",
    "\n",
    "You have explored the categorical-to-continuous relationship through specialized multiple approaches.  \n",
    "\n",
    "**Is the binary response, `Class`, associated with different distributions of the continuous inputs? Which type of specialized plot did you feel was easier to use to reach your conclusion? Were the specalized plots easier to work with than the various conditional distribution plots you made in Problem 2? What do you think?**  \n",
    "\n",
    "#### SOLUTION\n",
    "\n",
    "What do you think?  "
   ]
  },
  {
   "cell_type": "markdown",
   "id": "1e172391",
   "metadata": {},
   "source": [
    "## Problem 05\n",
    "\n",
    "Last assignment you explored counts and marginal distributions of variables in data of your choosing. You will expand on your previous work by exploring CONDITIONAL distributions!  \n",
    "\n",
    "**You must identify 1 continuous and 1 categorical variable in your data. You must explore the categorical-to-continuous relationship using ALL relevant plots from this assignment. Specifically you MUST use:**  \n",
    "\n",
    "* Conditional KDE plots, appropriately modified  \n",
    "* Conditional eCDF plots  \n",
    "* Boxplots\n",
    "* Violin plots  \n",
    "\n",
    "**You MUST contact Dr. Yurko if your data ONLY contains continuous variables OR ONLY contains categorical variables.**  \n",
    "\n",
    "#### SOLUTION"
   ]
  },
  {
   "cell_type": "code",
   "execution_count": null,
   "id": "f8d5ef46",
   "metadata": {},
   "outputs": [],
   "source": [
    "###"
   ]
  },
  {
   "cell_type": "code",
   "execution_count": null,
   "id": "26d4d89e",
   "metadata": {},
   "outputs": [],
   "source": []
  }
 ],
 "metadata": {
  "kernelspec": {
   "display_name": "Python 3 (ipykernel)",
   "language": "python",
   "name": "python3"
  },
  "language_info": {
   "codemirror_mode": {
    "name": "ipython",
    "version": 3
   },
   "file_extension": ".py",
   "mimetype": "text/x-python",
   "name": "python",
   "nbconvert_exporter": "python",
   "pygments_lexer": "ipython3",
   "version": "3.8.16"
  }
 },
 "nbformat": 4,
 "nbformat_minor": 5
}
