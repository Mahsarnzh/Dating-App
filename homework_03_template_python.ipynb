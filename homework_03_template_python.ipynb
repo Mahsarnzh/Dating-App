{
 "cells": [
  {
   "cell_type": "markdown",
   "id": "6066edac",
   "metadata": {},
   "source": [
    "## CMPINF 2130 Summer 2023 - Homework 03\n",
    "### Assigned June 1, 2023; Due June 8, 2023\n",
    "\n",
    "#### Your Name Here\n",
    "\n",
    "###  Submission time: June 8, 2023 11:00PM EST\n",
    "\n",
    "#### Collaborators\n",
    "\n",
    "Include the names of other students you worked with here.  \n",
    "\n",
    "## Overview\n",
    "\n",
    "You will work with 3 data sets in this assignment. Two of the data sets will be explored in both R and Python. This allows you to direclty compare figures between the two languages. Two of the data sets are new while the third is a data set from the previous assignment. You will practice lumping low frequency counts in this assignment and consider the consequences of such actions. You will also practice visualizing continuous distributions using synthetic and real data.  \n",
    "\n",
    "The three data sets for this assignment are:  \n",
    "\n",
    "* Western Pennsylvania Interscholastic Athletic League (WPIAL) Baseball Champions  \n",
    "  * All WPIAL Baseball Champions dating back to 1979  \n",
    "  * Problems 01 and 02 are associated with the WPIAL data  \n",
    "* Synthetic data created for this assignment to practice visualizing continuous distributions  \n",
    "  * 9 variables are included to give you practice visualizing different distributional shapes!  \n",
    "  * Problem 03 is associated with the synthetic data  \n",
    "* The EPA Air Quality System (AQS) data from homework 02  \n",
    "  * You will explore the continuous variable `daily_avg` in this assignment  \n",
    "  * Problems 04 and 05 are associated with the EPA AQS data  \n",
    "  \n",
    "You will explore the WPIAL and synthetic data in both R and Python. The EPA AQS data will only be explored in R.  \n",
    "\n",
    "The last problem, Problem 06, requires you to read in potential data for your final project. You may answer this problem in either Python or R.  \n",
    "\n",
    "The problem numbering in the Jupyter notebook is consistent with the R numbering. The Jupyter notebook therefore does **NOT** include Problems 04 and 05.  \n",
    "\n",
    "\n",
    "**Important**: Please download all CSV files from the Canvas site and save them in the same directory as your RMarkdown file. The code chunks read in the CSV files assuming they are in the same directory.  \n",
    "\n",
    "## Problem 00\n",
    "\n",
    "**Import the 4 Python modules NumPy, Pandas, Matplotlib Pyplot, and Seaborn. You must use the commonly accepted aliases for the modules.**  \n",
    "\n",
    "#### SOLUTION"
   ]
  },
  {
   "cell_type": "code",
   "execution_count": null,
   "id": "f15b39a7",
   "metadata": {},
   "outputs": [],
   "source": [
    "### your code here"
   ]
  },
  {
   "cell_type": "markdown",
   "id": "5087961b",
   "metadata": {},
   "source": [
    "## Problem 01\n",
    "\n",
    "The WPIAL is the Highschool athletic league in Western Pennsylvania. Each year Highschools across Western PA compete to win the Western PA title and move on to the State championship. For Baseball, the WPIAL is divided into multiple classes based on Highschool district size. Schools with fewer students compete in Class 1A while the largest Schools compete in 6A. The WPIAL Baseball Champions data are read in for you in the cell below. The data are assigned to the `wpial` object. There are three columns in the data set:  \n",
    "\n",
    "* `Year`: The year the competition was played    \n",
    "* `Class`: The Class designation (School size)  \n",
    "* `School`: The name of the School that won the championship  \n",
    "\n",
    "The data you are working with does not consist of all WPIAL winners. You are working with data starting from 1979 even though the first WPIAL Baseball championship took place in 1914. You are working with more recent data because school districts were very different over 100 years ago.  "
   ]
  },
  {
   "cell_type": "code",
   "execution_count": null,
   "id": "fdbb1a19",
   "metadata": {},
   "outputs": [],
   "source": [
    "wpial = pd.read_csv('wpial_baseball_champs.csv')"
   ]
  },
  {
   "cell_type": "markdown",
   "id": "db31035b",
   "metadata": {},
   "source": [
    "### 1a)\n",
    "\n",
    "**Use `.info()` to check the number of rows, columns, and data types of the columns in `wpial`.**  \n",
    "\n",
    "#### SOLUTION"
   ]
  },
  {
   "cell_type": "code",
   "execution_count": null,
   "id": "69197f40",
   "metadata": {},
   "outputs": [],
   "source": [
    "###"
   ]
  },
  {
   "cell_type": "markdown",
   "id": "1bc7c0af",
   "metadata": {},
   "source": [
    "### 1b)\n",
    "\n",
    "**Create a bar chart to show the counts for the `Class` variable using Seaborn.**  \n",
    "\n",
    "#### SOLUTION"
   ]
  },
  {
   "cell_type": "code",
   "execution_count": null,
   "id": "9d3a9a5f",
   "metadata": {},
   "outputs": [],
   "source": [
    "###"
   ]
  },
  {
   "cell_type": "markdown",
   "id": "f8956500",
   "metadata": {},
   "source": [
    "### 1c)\n",
    "\n",
    "**Which Class has the most rows?**  \n",
    "\n",
    "**Which class has the fewest rows?**  \n",
    "\n",
    "#### SOLUTION\n",
    "\n",
    "Type our solution using Markdown here."
   ]
  },
  {
   "cell_type": "markdown",
   "id": "f324fe5e",
   "metadata": {},
   "source": [
    "### 1d)\n",
    "\n",
    "**Create a bar chart to show the counts for the `School` variable using Seaborn. The names should be relatively easy to read.**  \n",
    "\n",
    "#### SOLUTION"
   ]
  },
  {
   "cell_type": "code",
   "execution_count": null,
   "id": "811609e3",
   "metadata": {},
   "outputs": [],
   "source": [
    "###"
   ]
  },
  {
   "cell_type": "markdown",
   "id": "5e7aadd9",
   "metadata": {},
   "source": [
    "### 1e)\n",
    "\n",
    "**Create a bar chart to show the counts for the `School` variable in Seaborn again. However, this time the bar chart MUST be in ASCENDING frequency order. The names should be relatively easy to read.**  \n",
    "\n",
    "#### SOLUTION"
   ]
  },
  {
   "cell_type": "code",
   "execution_count": null,
   "id": "c9fa8ab7",
   "metadata": {},
   "outputs": [],
   "source": []
  },
  {
   "cell_type": "markdown",
   "id": "e124f36e",
   "metadata": {},
   "source": [
    "### 1f)\n",
    "\n",
    "Let's now consider the combination of `School` and `Class`.  \n",
    "\n",
    "**Create a STACKED bar chart to show the counts of the `School` variable. The bar `hue` must be associated with the `Class` variable. The bar chart must be in ASCENDING frequency order. The names should be relatively easy to read.**  \n",
    "\n",
    "**You may use the default color palette.**  \n",
    "\n",
    "#### SOLUTION"
   ]
  },
  {
   "cell_type": "code",
   "execution_count": null,
   "id": "9bd3b21f",
   "metadata": {},
   "outputs": [],
   "source": [
    "###"
   ]
  },
  {
   "cell_type": "markdown",
   "id": "517b5f1f",
   "metadata": {},
   "source": [
    "### 1g)\n",
    "\n",
    "Let's now consider the combinations of `School` and `Class` using a heat map.  \n",
    "\n",
    "**Create a heat map to show the combinations of `School` and `Class`. The count must also be annotated via text.**  \n",
    "\n",
    "#### SOLUTION"
   ]
  },
  {
   "cell_type": "code",
   "execution_count": null,
   "id": "ea371c96",
   "metadata": {},
   "outputs": [],
   "source": [
    "###"
   ]
  },
  {
   "cell_type": "markdown",
   "id": "b532c5e1",
   "metadata": {},
   "source": [
    "### 1h)\n",
    "\n",
    "**How many different `Class` championships have been won by the `School` with the most total WPIAL championships?**  \n",
    "\n",
    "#### SOLUTION\n",
    "\n",
    "Type your answer in Markdown text here."
   ]
  },
  {
   "cell_type": "markdown",
   "id": "7e7feab7",
   "metadata": {},
   "source": [
    "### 1i)\n",
    "\n",
    "**How many schools have won a single WPIAL championship?**  \n",
    "\n",
    "#### SOLUTION\n",
    "\n",
    "You can add Code cells to answer this question but type a response using Markdown text here."
   ]
  },
  {
   "cell_type": "markdown",
   "id": "60df4c3b",
   "metadata": {},
   "source": [
    "## Problem 02\n",
    "\n",
    "Hopefully you have seen that there are many different Schools in the data set! We learned that LUMPING low frequency categories can help simplify figures when there are a large number of categories. However, it is critical to consider the consequence of such actions! Let's see what those consequences could be with WPIAL data set.  \n",
    "\n",
    "**Please note the instructions for this problem are slightly different from those in the R version of the assignment.**  \n",
    "\n",
    "### 2a)\n",
    "\n",
    "There are multiple lumping procedures that you could consider, but let's use a simple one in this assignment. You will lump based on a PROPORTION threshold. All LEVELS or CATEGORIES with LESS THAN a THRESHOLD proportion will be LUMPED into an OTHER category. The Python reading associated with Week 03 demonstrated how to define a function which lumped low frequency categories based on a proportion threshold. You must use that function for this problem.  \n",
    "\n",
    "**Define the lumping function `fct_lump_prop()` in the cell below.**\n",
    "\n",
    "#### SOLUTION"
   ]
  },
  {
   "cell_type": "code",
   "execution_count": null,
   "id": "7061120a",
   "metadata": {},
   "outputs": [],
   "source": [
    "###"
   ]
  },
  {
   "cell_type": "markdown",
   "id": "8d60ae74",
   "metadata": {},
   "source": [
    "### 2b)\n",
    "\n",
    "In lecture, we used a proportion threshold of 5%. However, **you will use a proportion threshold of 1% in this assignment.**  \n",
    "\n",
    "**Lump the low frequency categories of `School` into an OTHER category. Name the OTHER category `'(OTHER)'`. Assign the lumped schools to a new column within the `wpial` DataFrame named `lump_school`.**  \n",
    "\n",
    "**Apply the `.value_counts()` method to the `lump_school` column and display the results to the screen.**\n",
    "\n",
    "#### SOLUTION"
   ]
  },
  {
   "cell_type": "code",
   "execution_count": null,
   "id": "9a61b5a3",
   "metadata": {},
   "outputs": [],
   "source": [
    "###"
   ]
  },
  {
   "cell_type": "markdown",
   "id": "e5c91f91",
   "metadata": {},
   "source": [
    "### 2c)\n",
    "\n",
    "**Visualize the counts of the `lump_school` variable via a bar chart in Seaborn. The bar chart must be in ASCENDING frequency order. The names should be relatively easy to read.**  \n",
    "\n",
    "#### SOLUTION"
   ]
  },
  {
   "cell_type": "code",
   "execution_count": null,
   "id": "ebc8cc73",
   "metadata": {},
   "outputs": [],
   "source": [
    "###"
   ]
  },
  {
   "cell_type": "markdown",
   "id": "a6a51e67",
   "metadata": {},
   "source": [
    "### 2d)\n",
    "\n",
    "You will now visualize the combinations of `lump_school` with `Class` via a heat map. \n",
    "\n",
    "**Create a heat map to show the combinations of `lump_school` and `Class`. The count must also be annotated via text.**\n",
    "\n",
    "#### SOLUTION"
   ]
  },
  {
   "cell_type": "code",
   "execution_count": null,
   "id": "43891eac",
   "metadata": {},
   "outputs": [],
   "source": [
    "###"
   ]
  },
  {
   "cell_type": "markdown",
   "id": "b7d2719c",
   "metadata": {},
   "source": [
    "### 2e)\n",
    "\n",
    "**How would you describe the impact of the LUMPING procedure? Did it help? Did it modify the organizational nature of the `School` categories?**  \n",
    "\n",
    "#### SOLUTION\n",
    "\n",
    "Type your answer in Markdown text here."
   ]
  },
  {
   "cell_type": "markdown",
   "id": "66e64479",
   "metadata": {},
   "source": [
    "### 2f)\n",
    "\n",
    "You executed the lumping within this assignment based on a proportion threshold dictated to you. In practice, you should always consider the category proportions BEFORE using an assumed threshold.  \n",
    "\n",
    "**Visualize the proportion bar chart for `School` without lumping. The bar chart must be in ASCENDING order. The names should be relatively easy to read.**  \n",
    "\n",
    "#### SOLUTION"
   ]
  },
  {
   "cell_type": "code",
   "execution_count": null,
   "id": "2ff35d53",
   "metadata": {},
   "outputs": [],
   "source": [
    "###"
   ]
  },
  {
   "cell_type": "markdown",
   "id": "88b28c3e",
   "metadata": {},
   "source": [
    "### 2g)\n",
    "\n",
    "**Why does the figure in 2f) explain what happened with the LUMPING procedure?**  \n",
    "\n",
    "#### SOLUTION\n",
    "\n",
    "Type your answer in Markdown text here."
   ]
  },
  {
   "cell_type": "markdown",
   "id": "fb90fc72",
   "metadata": {},
   "source": [
    "## Problem 03\n",
    "\n",
    "You will now explore continuous variable distributions. You will do so using synthetic data generated for this assignment. The synthetic data are read in for you in the cell below and assigned to the `df` object. There are 9 continuous variables in the data set. These 9 variables were randomly generated using distributions that you will commonly encounter in data analysis tasks. Thus, exploring these 9 variables will prepare you for common challenges you will experience when exploring continuous variables.  "
   ]
  },
  {
   "cell_type": "code",
   "execution_count": null,
   "id": "79abc1e2",
   "metadata": {},
   "outputs": [],
   "source": [
    "df = pd.read_csv('hw03_synthetic.csv')"
   ]
  },
  {
   "cell_type": "markdown",
   "id": "8111c58c",
   "metadata": {},
   "source": [
    "This problem is more open ended compared to others. You must create the following visualizations for EACH variable within `df`.  \n",
    "* Histogram using an appropriate number of bins which includes KDE and RUG    \n",
    "* eCDF  \n",
    "\n",
    "**NOTE**: Fewer figures are required for the Python portion of the assignment compared to the R portion.  \n",
    "\n",
    "You must insert all cells. Your solutions must be well organized and easy to follow, but you may organize the code however you see fit. You **CANNOT** use any modules outside of the 4 modules we used in lecture to create the figures.  \n",
    "\n",
    "You **must** also answer the following conceptual questions for each variable:  \n",
    "\n",
    "* Does the distribution look like a symmetric bell-curve?  \n",
    "* Does the eCDF look like the Gaussian eCDF visualized in the Week 03 reading?  \n",
    "\n",
    "You may use for-loops to aid in the creation of the figures but that is not required. I would not use for-loops if I was in your shoes! It should be OBVIOUS which variable you are visualizing and discussing in your response.  \n",
    "\n",
    "*HINT*: The Week 03 readings will greatly help with this problem.  \n",
    "\n",
    "#### SOLUTION"
   ]
  },
  {
   "cell_type": "code",
   "execution_count": null,
   "id": "ac28ffdd",
   "metadata": {},
   "outputs": [],
   "source": [
    "### Add as many cells as you feel are necessary"
   ]
  },
  {
   "cell_type": "markdown",
   "id": "eb2c543b",
   "metadata": {},
   "source": [
    "## Problem 06\n",
    "\n",
    "Now it’s time to start exploring a data set of your own choosing! Last assignment you considered several potential data sets for your final project. You may use one of those here or you can use a different data set for this problem. It is up to you!  \n",
    "\n",
    "Regardless of your choice of data set, you must perform the following actions:  \n",
    "\n",
    "* Read in the data  \n",
    "* Show the number of rows and columns  \n",
    "* Show the data types associated with the variables  \n",
    "* Show the number of unique values for each variable  \n",
    "* Show the number of MISSING values for each variable  \n",
    "\n",
    "You must create figures to start exploring the data. However, you do not need to explore ALL variables in this assignment. This is just to get you started!  \n",
    "\n",
    "The requirements depend on the variables in your data. Please see the bullets below for what is required.  \n",
    "\n",
    "* If you have at least 3 categorical variables and at least 3 continuous variables:\n",
    "  * Create bar charts for 3 categorical variables of your choosing  \n",
    "  * Create histograms for 3 continuous variables of your choosing  \n",
    "* If you only have continuous variables:  \n",
    "  * Create histograms of 6 continuous variables  \n",
    "  * If you have less than 6 variables, make histograms for ALL variables  \n",
    "* If you only have categorical variables:  \n",
    "  * Create bar charts for 6 categorical variables  \n",
    "  * If you have less than 6 variables, make bar charts for ALL variables  \n",
    "* If you have less than 3 categorical variables:  \n",
    "  * Create bar charts for all categorical variables  \n",
    "  * Create histograms for at most 4 continuous variables  \n",
    "* If you have less than 3 continuous variables:  \n",
    "  * Create bar charts for at most 4 categorical variables  \n",
    "  * Create histograms for all continuous variables  \n",
    "\n",
    "The number of bins in the histograms should be appropriate based on the sample size.  \n",
    "\n",
    "**If you are having issues reading the data into Pandas please contact Dr. Yurko right away!!!!!!**  \n",
    "\n",
    "#### SOLUTION"
   ]
  },
  {
   "cell_type": "code",
   "execution_count": null,
   "id": "31a742e9",
   "metadata": {},
   "outputs": [],
   "source": [
    "### add as many cells as you feel are necessary"
   ]
  }
 ],
 "metadata": {
  "kernelspec": {
   "display_name": "Python 3 (ipykernel)",
   "language": "python",
   "name": "python3"
  },
  "language_info": {
   "codemirror_mode": {
    "name": "ipython",
    "version": 3
   },
   "file_extension": ".py",
   "mimetype": "text/x-python",
   "name": "python",
   "nbconvert_exporter": "python",
   "pygments_lexer": "ipython3",
   "version": "3.8.16"
  }
 },
 "nbformat": 4,
 "nbformat_minor": 5
}
